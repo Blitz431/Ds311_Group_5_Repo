{
 "cells": [
  {
   "cell_type": "code",
   "execution_count": 19,
   "id": "7810f957-3085-43d4-99b9-e1ee945bc07b",
   "metadata": {},
   "outputs": [
    {
     "name": "stdout",
     "output_type": "stream",
     "text": [
      "Cleaned file saved successfully\n"
     ]
    }
   ],
   "source": [
    "import pandas as pd\n",
    "df = pd.read_excel(r\"\\Users\\arnie\\Coding\\Ds311_Group_5_Repo\\Q1\\fifa_world_cup.xlsx\", \n",
    "                   sheet_name=\"fifa_world_cup\", \n",
    "                   header=1)\n",
    "threshold = len(df) * 0.5\n",
    "df = df.dropna(axis=1, thresh=threshold)\n",
    "\n",
    "num_cols = df.select_dtypes(include=[\"float64\", \"int64\"]).columns\n",
    "df[num_cols] = df[num_cols].fillna(df[num_cols].mean())\n",
    "\n",
    "cat_cols = df.select_dtypes(include=[\"object\"]).columns\n",
    "for col in cat_cols:\n",
    "    df[col] = df[col].fillna(df[col].mode()[0])\n",
    "\n",
    "df.to_excel(r\"\\Users\\arnie\\Coding\\Ds311_Group_5_Repo\\Q1\\fifa_world_cup_cleaned.xlsx\",index=False)\n",
    "\n",
    "print(\"Cleaned file saved successfully\")"
   ]
  },
  {
   "cell_type": "code",
   "execution_count": null,
   "id": "212813e9-725e-46e6-9d7c-9c8b591da448",
   "metadata": {},
   "outputs": [],
   "source": []
  },
  {
   "cell_type": "code",
   "execution_count": null,
   "id": "249fbd7d-cb1a-4c3d-9609-7418074204ff",
   "metadata": {},
   "outputs": [],
   "source": []
  }
 ],
 "metadata": {
  "kernelspec": {
   "display_name": "Python 3 (ipykernel)",
   "language": "python",
   "name": "python3"
  },
  "language_info": {
   "codemirror_mode": {
    "name": "ipython",
    "version": 3
   },
   "file_extension": ".py",
   "mimetype": "text/x-python",
   "name": "python",
   "nbconvert_exporter": "python",
   "pygments_lexer": "ipython3",
   "version": "3.12.7"
  }
 },
 "nbformat": 4,
 "nbformat_minor": 5
}
