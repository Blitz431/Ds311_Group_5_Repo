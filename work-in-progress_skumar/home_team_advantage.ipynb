{
 "cells": [
  {
   "cell_type": "code",
   "execution_count": 72,
   "id": "e6ce05fa-5649-4eaf-aea1-cf322f89cd7e",
   "metadata": {},
   "outputs": [],
   "source": [
    "# Connecting the fifa_world_cup database\n",
    "import sqlite3\n",
    "import pandas as pd\n",
    "\n",
    "conn = sqlite3.Connection(\"fifa_world_cup.db\")"
   ]
  },
  {
   "cell_type": "code",
   "execution_count": 106,
   "id": "e2d41a3f-0263-4c8b-9034-80b2002824e0",
   "metadata": {},
   "outputs": [],
   "source": [
    "# Selecting necessary columns for home_team_advantage\n",
    "hta_df = pd.read_sql_query('''\n",
    "    SELECT home_team, home_team_score, home_team_fifa_rank, neutral_location\n",
    "    FROM fifa_world_cup\n",
    "    WHERE neutral_location = 0\n",
    "    ORDER BY home_team_score DESC;\n",
    "    ''', conn)\n",
    "# We could add the away_team name if we wanted to see if these home team advantage may have been due to specific away teams"
   ]
  },
  {
   "cell_type": "code",
   "execution_count": 108,
   "id": "a673d25c-7f0a-4bc8-8250-299124f1f061",
   "metadata": {},
   "outputs": [
    {
     "name": "stdout",
     "output_type": "stream",
     "text": [
      "                home_team  home_team_score  home_team_fifa_rank  \\\n",
      "0               Australia               31                   77   \n",
      "1               Australia               22                   76   \n",
      "2                 IR Iran               19                   40   \n",
      "3      Dominican Republic               17                  181   \n",
      "4               Australia               16                   36   \n",
      "...                   ...              ...                  ...   \n",
      "17942             England                0                    5   \n",
      "17943              Poland                0                   26   \n",
      "17944             Romania                0                   48   \n",
      "17945       Liechtenstein                0                  192   \n",
      "17946               Japan                0                   23   \n",
      "\n",
      "       neutral_location  \n",
      "0                     0  \n",
      "1                     0  \n",
      "2                     0  \n",
      "3                     0  \n",
      "4                     0  \n",
      "...                 ...  \n",
      "17942                 0  \n",
      "17943                 0  \n",
      "17944                 0  \n",
      "17945                 0  \n",
      "17946                 0  \n",
      "\n",
      "[17947 rows x 4 columns]\n"
     ]
    }
   ],
   "source": [
    "# Checking if correct columns were selected and sorted properly\n",
    "print(hta_df)"
   ]
  },
  {
   "cell_type": "code",
   "execution_count": null,
   "id": "77475818-530d-4b48-ab3d-37e003c969f7",
   "metadata": {},
   "outputs": [],
   "source": []
  }
 ],
 "metadata": {
  "kernelspec": {
   "display_name": "Python 3 (ipykernel)",
   "language": "python",
   "name": "python3"
  },
  "language_info": {
   "codemirror_mode": {
    "name": "ipython",
    "version": 3
   },
   "file_extension": ".py",
   "mimetype": "text/x-python",
   "name": "python",
   "nbconvert_exporter": "python",
   "pygments_lexer": "ipython3",
   "version": "3.12.4"
  }
 },
 "nbformat": 4,
 "nbformat_minor": 5
}
