{
 "cells": [
  {
   "cell_type": "code",
   "execution_count": null,
   "id": "e8febf74-3286-4f08-af6c-e6490ea442dc",
   "metadata": {},
   "outputs": [],
   "source": [
    "import pandas as pd\n",
    "import sqlite3\n",
    "import os\n",
    "\n",
    "def csv_to_db(csv_file, db_file, table_name='fifa_world_cup'):\n",
    "    # Load the CSV with a specified delimiter\n",
    "    df = pd.read_csv(csv_file, delimiter=',')  # Change delimiter if needed\n",
    "\n",
    "    print(\"Columns and types:\")\n",
    "    print(df.dtypes)\n",
    "\n",
    "    if os.path.exists(db_file):\n",
    "        os.remove(db_file)\n",
    "\n",
    "    conn = sqlite3.connect(db_file)\n",
    "    df.to_sql(table_name, conn, index=False, if_exists='replace')\n",
    "    conn.close()\n",
    "\n",
    "    print(f\"Database '{db_file}' created successfully.\")\n",
    "\n",
    "# Usage\n",
    "csv_to_db('fifa_world_cup.csv', 'fifa_world_cup.db')\n"
   ]
  }
 ],
 "metadata": {
  "kernelspec": {
   "display_name": "Python 3 (ipykernel)",
   "language": "python",
   "name": "python3"
  },
  "language_info": {
   "codemirror_mode": {
    "name": "ipython",
    "version": 3
   },
   "file_extension": ".py",
   "mimetype": "text/x-python",
   "name": "python",
   "nbconvert_exporter": "python",
   "pygments_lexer": "ipython3",
   "version": "3.12.4"
  }
 },
 "nbformat": 4,
 "nbformat_minor": 5
}
