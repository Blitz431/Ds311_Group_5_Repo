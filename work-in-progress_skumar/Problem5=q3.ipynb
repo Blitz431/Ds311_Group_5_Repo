{
 "cells": [
  {
   "cell_type": "code",
   "execution_count": 11,
   "id": "2ff44130-088e-40ea-a08e-7a80c35a025d",
   "metadata": {},
   "outputs": [],
   "source": [
    "# Connecting the fifa_world_cup database\n",
    "import sqlite3\n",
    "import pandas as pd\n",
    "\n",
    "conn = sqlite3.Connection(\"fifa_world_cup.db\")\n",
    "cursor = conn.cursor()"
   ]
  },
  {
   "cell_type": "code",
   "execution_count": 13,
   "id": "81dd90ae-4eb3-4990-b432-fa0288e83efb",
   "metadata": {},
   "outputs": [
    {
     "name": "stdout",
     "output_type": "stream",
     "text": [
      "Column 'winning_team' already exists.\n",
      "Team with the longest winning streak: Argentina (3 wins)\n"
     ]
    }
   ],
   "source": [
    "# Add a new column to store the winning team (if it doesn't already exist)\n",
    "try:\n",
    "    cursor.execute(\"ALTER TABLE fifa_world_cup ADD COLUMN winning_team TEXT;\")\n",
    "except sqlite3.OperationalError:\n",
    "    print(\"Column 'winning_team' already exists.\")\n",
    "\n",
    "# Update the new column with the team that had the higher score\n",
    "cursor.execute(\"\"\"\n",
    "    UPDATE fifa_world_cup \n",
    "    SET winning_team = \n",
    "        CASE \n",
    "            WHEN home_team_score > away_team_score THEN home_team \n",
    "            WHEN away_team_score > home_team_score THEN away_team \n",
    "            ELSE 'Draw' \n",
    "        END;\n",
    "\"\"\")\n",
    "\n",
    "conn.commit()\n",
    "\n",
    "# Query to find the longest winning streak\n",
    "cursor.execute(\"\"\"\n",
    "    WITH Streaks AS (\n",
    "        SELECT winning_team, date, \n",
    "            ROW_NUMBER() OVER (PARTITION BY winning_team ORDER BY date) - \n",
    "            ROW_NUMBER() OVER (ORDER BY date) AS streak_group\n",
    "        FROM fifa_world_cup\n",
    "        WHERE winning_team != 'Draw'\n",
    "    ) \n",
    "    SELECT winning_team, COUNT(*) AS streak_length\n",
    "    FROM Streaks\n",
    "    GROUP BY winning_team, streak_group\n",
    "    ORDER BY streak_length DESC\n",
    "    LIMIT 1;\n",
    "\"\"\")\n",
    "\n",
    "longest_streak = cursor.fetchone()\n",
    "if longest_streak:\n",
    "    print(f\"Team with the longest winning streak: {longest_streak[0]} ({longest_streak[1]} wins)\")\n",
    "\n",
    "# Close connection\n",
    "conn.close()"
   ]
  },
  {
   "cell_type": "code",
   "execution_count": null,
   "id": "4586a4e1-03c4-4ebb-beda-26f7003078a9",
   "metadata": {},
   "outputs": [],
   "source": [
    "hta_df = pd.read_sql_query('''\n",
    "    SELECT date, home_team, home_team_score\n",
    "    FROM fifa_world_cup\n",
    "    WHERE neutral_location = 0\n",
    "    ORDER BY home_team_score DESC;\n",
    "    ''', conn)"
   ]
  },
  {
   "cell_type": "code",
   "execution_count": null,
   "id": "e5575296-dcfd-4e16-9e3a-84706a2a92af",
   "metadata": {},
   "outputs": [],
   "source": []
  }
 ],
 "metadata": {
  "kernelspec": {
   "display_name": "Python 3 (ipykernel)",
   "language": "python",
   "name": "python3"
  },
  "language_info": {
   "codemirror_mode": {
    "name": "ipython",
    "version": 3
   },
   "file_extension": ".py",
   "mimetype": "text/x-python",
   "name": "python",
   "nbconvert_exporter": "python",
   "pygments_lexer": "ipython3",
   "version": "3.12.4"
  }
 },
 "nbformat": 4,
 "nbformat_minor": 5
}
