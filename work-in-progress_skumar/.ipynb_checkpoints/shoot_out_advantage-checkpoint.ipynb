{
 "cells": [
  {
   "cell_type": "code",
   "execution_count": 5,
   "id": "088d9324-9025-4c22-876b-e6ba1b06eb85",
   "metadata": {},
   "outputs": [
    {
     "name": "stdout",
     "output_type": "stream",
     "text": [
      "✅ New database 'shoot_out_advantage.db' created with 'shoot_out' converted to 0/1.\n"
     ]
    }
   ],
   "source": [
    "import sqlite3\n",
    "import pandas as pd\n",
    "\n",
    "# File paths\n",
    "source_db = 'fifa_world_cup.db'\n",
    "target_db = 'shoot_out_advantage.db'\n",
    "\n",
    "# Connect to source DB\n",
    "conn_src = sqlite3.connect(source_db)\n",
    "\n",
    "# Read selected columns\n",
    "query = \"\"\"\n",
    "SELECT shoot_out, neutral_location, home_team_result\n",
    "FROM fifa_world_cup\n",
    "\"\"\"\n",
    "df = pd.read_sql_query(query, conn_src)\n",
    "conn_src.close()\n",
    "\n",
    "# Track unexpected values in shoot_out\n",
    "unexpected_values = set()\n",
    "\n",
    "# Function to convert boolean-like values to 0/1\n",
    "def to_bool_numeric(x):\n",
    "    truthy = {'true', '1', 'yes', 'y', 't'}\n",
    "    falsy = {'false', '0', 'no', 'n', 'f'}\n",
    "\n",
    "    x_str = str(x).strip().lower()\n",
    "    if x_str in truthy:\n",
    "        return 1\n",
    "    elif x_str in falsy:\n",
    "        return 0\n",
    "    else:\n",
    "        unexpected_values.add(x_str)\n",
    "        return 0  # Or use None if you'd prefer to keep unknowns as NaN\n",
    "\n",
    "# Convert only the 'shoot_out' column\n",
    "df['shoot_out'] = df['shoot_out'].map(to_bool_numeric)\n",
    "\n",
    "# Show any unexpected values\n",
    "if unexpected_values:\n",
    "    print(\"⚠️ Unexpected 'shoot_out' values defaulted to 0:\", unexpected_values)\n",
    "\n",
    "# Save to new DB\n",
    "conn_target = sqlite3.connect(target_db)\n",
    "df.to_sql('fifa_world_cup', conn_target, index=False, if_exists='replace')\n",
    "conn_target.close()\n",
    "\n",
    "print(\"✅ New database 'shoot_out_advantage.db' created with 'shoot_out' converted to 0/1.\")\n"
   ]
  },
  {
   "cell_type": "code",
   "execution_count": null,
   "id": "01df0707-153a-4bf6-bac1-e1dbb06077e6",
   "metadata": {},
   "outputs": [],
   "source": []
  }
 ],
 "metadata": {
  "kernelspec": {
   "display_name": "Python 3 (ipykernel)",
   "language": "python",
   "name": "python3"
  },
  "language_info": {
   "codemirror_mode": {
    "name": "ipython",
    "version": 3
   },
   "file_extension": ".py",
   "mimetype": "text/x-python",
   "name": "python",
   "nbconvert_exporter": "python",
   "pygments_lexer": "ipython3",
   "version": "3.12.4"
  }
 },
 "nbformat": 4,
 "nbformat_minor": 5
}
