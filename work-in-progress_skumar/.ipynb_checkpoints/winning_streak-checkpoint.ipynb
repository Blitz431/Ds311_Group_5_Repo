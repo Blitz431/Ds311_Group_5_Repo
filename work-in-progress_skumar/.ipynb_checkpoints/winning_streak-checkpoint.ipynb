{
 "cells": [
  {
   "cell_type": "code",
   "execution_count": 1,
   "id": "07e8ed4c-85da-497a-ad40-7ace82ab54ed",
   "metadata": {},
   "outputs": [
    {
     "name": "stdout",
     "output_type": "stream",
     "text": [
      "New database 'winning_streak.db' created with selected columns.\n"
     ]
    }
   ],
   "source": [
    "import sqlite3\n",
    "import pandas as pd\n",
    "\n",
    "# Connect to the original DB\n",
    "source_conn = sqlite3.connect('fifa_world_cup.db')\n",
    "\n",
    "# Read the specific columns from the original table\n",
    "query = \"\"\"\n",
    "SELECT Date, Home_team, Away_team, home_team_score, away_team_score\n",
    "FROM fifa_world_cup\n",
    "\"\"\"\n",
    "df = pd.read_sql_query(query, source_conn)\n",
    "\n",
    "# Close the source connection\n",
    "source_conn.close()\n",
    "\n",
    "# Create a new database and save the filtered data\n",
    "target_conn = sqlite3.connect('winning_streak.db')\n",
    "df.to_sql('fifa_world_cup', target_conn, index=False, if_exists='replace')\n",
    "target_conn.close()\n",
    "\n",
    "print(\"New database 'winning_streak.db' created with selected columns.\")\n"
   ]
  },
  {
   "cell_type": "code",
   "execution_count": null,
   "id": "80c9905a-db9e-4890-b3e7-80a1283fbff0",
   "metadata": {},
   "outputs": [],
   "source": []
  }
 ],
 "metadata": {
  "kernelspec": {
   "display_name": "Python 3 (ipykernel)",
   "language": "python",
   "name": "python3"
  },
  "language_info": {
   "codemirror_mode": {
    "name": "ipython",
    "version": 3
   },
   "file_extension": ".py",
   "mimetype": "text/x-python",
   "name": "python",
   "nbconvert_exporter": "python",
   "pygments_lexer": "ipython3",
   "version": "3.12.4"
  }
 },
 "nbformat": 4,
 "nbformat_minor": 5
}
