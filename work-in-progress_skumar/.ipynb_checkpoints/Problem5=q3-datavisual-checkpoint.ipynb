{
 "cells": [
  {
   "cell_type": "code",
   "execution_count": 1,
   "id": "02738af4-b976-4f2c-b746-b2f31d0557a1",
   "metadata": {},
   "outputs": [
    {
     "name": "stdout",
     "output_type": "stream",
     "text": [
      "Team with the longest winning streak: Spain (25 games)\n"
     ]
    }
   ],
   "source": [
    "import sqlite3\n",
    "from collections import defaultdict\n",
    "\n",
    "def get_longest_winning_streak(db_path):\n",
    "    conn = sqlite3.connect(db_path)\n",
    "    cursor = conn.cursor()\n",
    "\n",
    "    # Fetch all match results ordered by date\n",
    "    cursor.execute(\"\"\"\n",
    "        SELECT Date, Home_team, Away_team, home_team_score, away_team_score\n",
    "        FROM fifa_world_cup\n",
    "        ORDER BY Date ASC\n",
    "    \"\"\")\n",
    "    \n",
    "    matches = cursor.fetchall()\n",
    "    conn.close()\n",
    "\n",
    "    # Dictionary to track current winning streak per team\n",
    "    streaks = defaultdict(int)\n",
    "    max_streaks = defaultdict(int)\n",
    "\n",
    "    # Iterate through matches to update streaks\n",
    "    for date, home_team, away_team, home_score, away_score in matches:\n",
    "        # Determine match outcomes\n",
    "        if home_score > away_score:  # Home team wins\n",
    "            winner, loser = home_team, away_team\n",
    "        elif away_score > home_score:  # Away team wins\n",
    "            winner, loser = away_team, home_team\n",
    "        else:  # Draw\n",
    "            winner, loser = home_team, away_team  # Both continue their streaks\n",
    "\n",
    "        # Update winning streaks\n",
    "        streaks[winner] += 1  # Extend streak\n",
    "        max_streaks[winner] = max(max_streaks[winner], streaks[winner])\n",
    "\n",
    "        streaks[loser] = 0  # Reset losing team streak\n",
    "\n",
    "    # Find the team with the longest winning streak\n",
    "    longest_team = max(max_streaks, key=max_streaks.get)\n",
    "    longest_streak = max_streaks[longest_team]\n",
    "\n",
    "    return longest_team, longest_streak\n",
    "\n",
    "# Example usage\n",
    "db_path = \"fifa_world_cup.db\"\n",
    "team, streak = get_longest_winning_streak(db_path)\n",
    "print(f\"Team with the longest winning streak: {team} ({streak} games)\")\n"
   ]
  },
  {
   "cell_type": "code",
   "execution_count": null,
   "id": "b4478eb7-f2fe-4d53-9e14-7d0a487bc97e",
   "metadata": {},
   "outputs": [],
   "source": []
  }
 ],
 "metadata": {
  "kernelspec": {
   "display_name": "Python 3 (ipykernel)",
   "language": "python",
   "name": "python3"
  },
  "language_info": {
   "codemirror_mode": {
    "name": "ipython",
    "version": 3
   },
   "file_extension": ".py",
   "mimetype": "text/x-python",
   "name": "python",
   "nbconvert_exporter": "python",
   "pygments_lexer": "ipython3",
   "version": "3.12.4"
  }
 },
 "nbformat": 4,
 "nbformat_minor": 5
}
