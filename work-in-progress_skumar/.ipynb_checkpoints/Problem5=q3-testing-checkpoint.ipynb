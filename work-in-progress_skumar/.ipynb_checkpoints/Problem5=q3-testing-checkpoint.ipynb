{
 "cells": [
  {
   "cell_type": "code",
   "execution_count": 1,
   "id": "02738af4-b976-4f2c-b746-b2f31d0557a1",
   "metadata": {},
   "outputs": [
    {
     "name": "stdout",
     "output_type": "stream",
     "text": [
      "Team with the longest winning streak: Argentina (3 wins)\n"
     ]
    }
   ],
   "source": [
    "# Connecting the fifa_world_cup database\n",
    "import sqlite3\n",
    "import pandas as pd\n",
    "\n",
    "conn = sqlite3.Connection(\"fifa_world_cup.db\")\n",
    "cursor = conn.cursor()\n",
    "\n",
    "# Add a new column to store the winning team (if it doesn't already exist)\n",
    "try:\n",
    "    cursor.execute(\"ALTER TABLE fifa_world_cup ADD COLUMN winning_team TEXT;\")\n",
    "except sqlite3.OperationalError:\n",
    "    print(\"Column 'winning_team' already exists.\")\n",
    "\n",
    "# Update the new column with the team that had the higher score\n",
    "cursor.execute(\"\"\"\n",
    "    UPDATE fifa_world_cup \n",
    "    SET winning_team = \n",
    "        CASE \n",
    "            WHEN home_team_score > away_team_score THEN home_team \n",
    "            WHEN away_team_score > home_team_score THEN away_team \n",
    "            ELSE 'Draw' \n",
    "        END;\n",
    "\"\"\")\n",
    "\n",
    "conn.commit()\n",
    "\n",
    "# Query to find the longest winning streak\n",
    "cursor.execute(\"\"\"\n",
    "    WITH Streaks AS (\n",
    "        SELECT winning_team, date, \n",
    "            ROW_NUMBER() OVER (PARTITION BY winning_team ORDER BY date) - \n",
    "            ROW_NUMBER() OVER (ORDER BY date) AS streak_group\n",
    "        FROM fifa_world_cup\n",
    "        WHERE winning_team != 'Draw'\n",
    "    ) \n",
    "    SELECT winning_team, COUNT(*) AS streak_length\n",
    "    FROM Streaks\n",
    "    GROUP BY winning_team, streak_group\n",
    "    ORDER BY streak_length DESC\n",
    "    LIMIT 1;\n",
    "\"\"\")\n",
    "\n",
    "longest_streak = cursor.fetchone()\n",
    "if longest_streak:\n",
    "    print(f\"Team with the longest winning streak: {longest_streak[0]} ({longest_streak[1]} wins)\")\n",
    "\n",
    "# Close connection\n",
    "conn.close()"
   ]
  },
  {
   "cell_type": "code",
   "execution_count": null,
   "id": "b4478eb7-f2fe-4d53-9e14-7d0a487bc97e",
   "metadata": {},
   "outputs": [],
   "source": []
  }
 ],
 "metadata": {
  "kernelspec": {
   "display_name": "Python 3 (ipykernel)",
   "language": "python",
   "name": "python3"
  },
  "language_info": {
   "codemirror_mode": {
    "name": "ipython",
    "version": 3
   },
   "file_extension": ".py",
   "mimetype": "text/x-python",
   "name": "python",
   "nbconvert_exporter": "python",
   "pygments_lexer": "ipython3",
   "version": "3.12.4"
  }
 },
 "nbformat": 4,
 "nbformat_minor": 5
}
