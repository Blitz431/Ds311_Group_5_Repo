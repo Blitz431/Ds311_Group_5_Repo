{
 "cells": [
  {
   "cell_type": "code",
   "execution_count": 9,
   "id": "af55e9bf-6b65-4d74-9933-19c6dad55ce7",
   "metadata": {},
   "outputs": [
    {
     "name": "stdout",
     "output_type": "stream",
     "text": [
      "Cleaned file saved successfully\n"
     ]
    }
   ],
   "source": [
    "import pandas as pd\n",
    "\n",
    "# Step 1: Load Excel file from correct path\n",
    "df = pd.read_excel(\"/Users/saajay/Desktop/GitHub/Ds311_Group_5_Repo/work-in-progress-Saajay-Singh/fifa_world_cup.xlsx\", \n",
    "                   sheet_name=\"Sheet 1 - fifa_world_cup\", \n",
    "                   header=1)\n",
    "\n",
    "# Step 2: Drop columns with too many missing values\n",
    "threshold = len(df) * 0.5\n",
    "df = df.dropna(axis=1, thresh=threshold)\n",
    "\n",
    "# Step 3: Fill missing numbers with column mean\n",
    "num_cols = df.select_dtypes(include=[\"float64\", \"int64\"]).columns\n",
    "df[num_cols] = df[num_cols].fillna(df[num_cols].mean())\n",
    "\n",
    "# Step 4: Fill missing text with most common value (mode)\n",
    "cat_cols = df.select_dtypes(include=[\"object\"]).columns\n",
    "for col in cat_cols:\n",
    "    df[col] = df[col].fillna(df[col].mode()[0])\n",
    "\n",
    "# Step 5: Save cleaned file back into same folder\n",
    "df.to_excel(\"/Users/saajay/Desktop/GitHub/Ds311_Group_5_Repo/work-in-progress-Saajay-Singh/fifa_world_cup_cleaned.xlsx\", index=False)\n",
    "\n",
    "print(\"Cleaned file saved successfully\")\n"
   ]
  },
  {
   "cell_type": "code",
   "execution_count": null,
   "id": "0d5c647c-45fa-4d4e-9014-3f840f69ece6",
   "metadata": {},
   "outputs": [],
   "source": []
  }
 ],
 "metadata": {
  "kernelspec": {
   "display_name": "Python [conda env:base] *",
   "language": "python",
   "name": "conda-base-py"
  },
  "language_info": {
   "codemirror_mode": {
    "name": "ipython",
    "version": 3
   },
   "file_extension": ".py",
   "mimetype": "text/x-python",
   "name": "python",
   "nbconvert_exporter": "python",
   "pygments_lexer": "ipython3",
   "version": "3.12.7"
  }
 },
 "nbformat": 4,
 "nbformat_minor": 5
}
