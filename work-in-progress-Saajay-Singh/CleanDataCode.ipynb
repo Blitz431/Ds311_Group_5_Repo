{
 "cells": [
  {
   "cell_type": "code",
   "execution_count": 8,
   "id": "f22bae62-487b-4b15-9493-c1c5c0966c2e",
   "metadata": {},
   "outputs": [
    {
     "name": "stdout",
     "output_type": "stream",
     "text": [
      " Cleaned dataset saved successfully!\n"
     ]
    }
   ],
   "source": [
    "import pandas as pd\n",
    "\n",
    "# Step 1: Loaded in the Excel file and set the correct header row\n",
    "df = pd.read_excel(\"/Users/saajay/Desktop/GitHub/Ds311_Group_5_Repo/work-in-progress-Saajay-Singh/fifa_world_cup.xlsx\", \n",
    "                   sheet_name=\"Sheet 1 - fifa_world_cup\", \n",
    "                   header=1)\n",
    "\n",
    "# Step 2: Dropped columns that have more than 50% missing values\n",
    "threshold = len(df) * 0.5\n",
    "df = df.dropna(axis=1, thresh=threshold)\n",
    "\n",
    "# Step 3: Filled missing values in numeric columns with the column mean\n",
    "num_cols = df.select_dtypes(include=[\"float64\", \"int64\"]).columns\n",
    "df[num_cols] = df[num_cols].fillna(df[num_cols].mean())\n",
    "\n",
    "# Step 4: Filled missing values in text/categorical columns with the most frequent value \n",
    "cat_cols = df.select_dtypes(include=[\"object\"]).columns\n",
    "for col in cat_cols:\n",
    "    df[col] = df[col].fillna(df[col].mode()[0])\n",
    "\n",
    "# Step 5: Saved the cleaned version to a new Excel file\n",
    "df.to_excel(\"/Users/saajay/Desktop/GitHub/Ds311_Group_5_Repo/work-in-progress-Saajay-Singh/fifa_world_cup_cleaned.xlsx\", index=False)\n",
    "\n",
    "print(\" Cleaned dataset saved successfully!\")\n",
    "\n"
   ]
  },
  {
   "cell_type": "code",
   "execution_count": null,
   "id": "4a6bbf04-b548-4956-baa1-651b75d02a72",
   "metadata": {},
   "outputs": [],
   "source": []
  },
  {
   "cell_type": "code",
   "execution_count": null,
   "id": "79c75347-07c9-471c-ba0e-91f6270faaaf",
   "metadata": {},
   "outputs": [],
   "source": []
  },
  {
   "cell_type": "code",
   "execution_count": null,
   "id": "3e4a91d2-5389-41a6-bfa0-c7c1f9e1edc2",
   "metadata": {},
   "outputs": [],
   "source": []
  }
 ],
 "metadata": {
  "kernelspec": {
   "display_name": "Python [conda env:base] *",
   "language": "python",
   "name": "conda-base-py"
  },
  "language_info": {
   "codemirror_mode": {
    "name": "ipython",
    "version": 3
   },
   "file_extension": ".py",
   "mimetype": "text/x-python",
   "name": "python",
   "nbconvert_exporter": "python",
   "pygments_lexer": "ipython3",
   "version": "3.12.7"
  }
 },
 "nbformat": 4,
 "nbformat_minor": 5
}
